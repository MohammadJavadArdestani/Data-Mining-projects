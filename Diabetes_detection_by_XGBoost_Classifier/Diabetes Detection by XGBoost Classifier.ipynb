{
  "cells": [
    {
      "cell_type": "code",
      "execution_count": 1,
      "metadata": {
        "id": "ilSyHJBu5X1e"
      },
      "outputs": [],
      "source": [
        "import pandas as pd\n",
        "import numpy as np\n",
        "from scipy import stats\n",
        "import seaborn as sns\n",
        "import matplotlib.pyplot as plt\n",
        "%matplotlib inline\n",
        "from sklearn.preprocessing import LabelEncoder\n",
        "import warnings\n",
        "warnings.filterwarnings(\"ignore\")"
      ]
    },
    {
      "cell_type": "code",
      "execution_count": null,
      "metadata": {
        "colab": {
          "base_uri": "https://localhost:8080/"
        },
        "id": "pgpcftpG4mw5",
        "outputId": "52fb0b9b-260b-4551-ff5e-9839b7bbfdf1"
      },
      "outputs": [],
      "source": [
        "from google.colab import drive\n",
        "drive.mount('/content/gdrive')"
      ]
    },
    {
      "cell_type": "code",
      "execution_count": null,
      "metadata": {
        "colab": {
          "base_uri": "https://localhost:8080/",
          "height": 485
        },
        "id": "j-HgsSMI47Pk",
        "outputId": "62207e37-61d9-4677-a5a4-293d76e053f4"
      },
      "outputs": [
        {
          "data": {
            "text/html": [
              "\n",
              "  <div id=\"df-98927356-ac6e-4f6c-a80f-7b62dea7beb4\">\n",
              "    <div class=\"colab-df-container\">\n",
              "      <div>\n",
              "<style scoped>\n",
              "    .dataframe tbody tr th:only-of-type {\n",
              "        vertical-align: middle;\n",
              "    }\n",
              "\n",
              "    .dataframe tbody tr th {\n",
              "        vertical-align: top;\n",
              "    }\n",
              "\n",
              "    .dataframe thead th {\n",
              "        text-align: right;\n",
              "    }\n",
              "</style>\n",
              "<table border=\"1\" class=\"dataframe\">\n",
              "  <thead>\n",
              "    <tr style=\"text-align: right;\">\n",
              "      <th></th>\n",
              "      <th>Diabetes_binary</th>\n",
              "      <th>HighBP</th>\n",
              "      <th>High Cholesterol</th>\n",
              "      <th>Cholesterol Check</th>\n",
              "      <th>BMI</th>\n",
              "      <th>Smoker</th>\n",
              "      <th>Stroke</th>\n",
              "      <th>HeartDiseaseorAttack</th>\n",
              "      <th>Physical Activity</th>\n",
              "      <th>Fruits</th>\n",
              "      <th>...</th>\n",
              "      <th>Any Health Care</th>\n",
              "      <th>No Doctor because of Cost</th>\n",
              "      <th>General Health</th>\n",
              "      <th>Mental Health</th>\n",
              "      <th>Physical Health</th>\n",
              "      <th>Difficulty Walking</th>\n",
              "      <th>Sex</th>\n",
              "      <th>Age</th>\n",
              "      <th>Education</th>\n",
              "      <th>Income</th>\n",
              "    </tr>\n",
              "  </thead>\n",
              "  <tbody>\n",
              "    <tr>\n",
              "      <th>0</th>\n",
              "      <td>0.0</td>\n",
              "      <td>1.0</td>\n",
              "      <td>0.0</td>\n",
              "      <td>1.0</td>\n",
              "      <td>26.0</td>\n",
              "      <td>0.0</td>\n",
              "      <td>0.0</td>\n",
              "      <td>0.0</td>\n",
              "      <td>1.0</td>\n",
              "      <td>0.0</td>\n",
              "      <td>...</td>\n",
              "      <td>1.0</td>\n",
              "      <td>0.0</td>\n",
              "      <td>Medium</td>\n",
              "      <td>5.0</td>\n",
              "      <td>30.0</td>\n",
              "      <td>0.0</td>\n",
              "      <td>male</td>\n",
              "      <td>4.0</td>\n",
              "      <td>Cat6</td>\n",
              "      <td>Cat8</td>\n",
              "    </tr>\n",
              "    <tr>\n",
              "      <th>1</th>\n",
              "      <td>0.0</td>\n",
              "      <td>1.0</td>\n",
              "      <td>1.0</td>\n",
              "      <td>1.0</td>\n",
              "      <td>26.0</td>\n",
              "      <td>1.0</td>\n",
              "      <td>1.0</td>\n",
              "      <td>0.0</td>\n",
              "      <td>0.0</td>\n",
              "      <td>1.0</td>\n",
              "      <td>...</td>\n",
              "      <td>1.0</td>\n",
              "      <td>0.0</td>\n",
              "      <td>Medium</td>\n",
              "      <td>0.0</td>\n",
              "      <td>0.0</td>\n",
              "      <td>0.0</td>\n",
              "      <td>male</td>\n",
              "      <td>12.0</td>\n",
              "      <td>Cat6</td>\n",
              "      <td>Cat8</td>\n",
              "    </tr>\n",
              "    <tr>\n",
              "      <th>2</th>\n",
              "      <td>0.0</td>\n",
              "      <td>0.0</td>\n",
              "      <td>0.0</td>\n",
              "      <td>1.0</td>\n",
              "      <td>26.0</td>\n",
              "      <td>0.0</td>\n",
              "      <td>0.0</td>\n",
              "      <td>0.0</td>\n",
              "      <td>1.0</td>\n",
              "      <td>1.0</td>\n",
              "      <td>...</td>\n",
              "      <td>1.0</td>\n",
              "      <td>0.0</td>\n",
              "      <td>High</td>\n",
              "      <td>0.0</td>\n",
              "      <td>10.0</td>\n",
              "      <td>0.0</td>\n",
              "      <td>male</td>\n",
              "      <td>13.0</td>\n",
              "      <td>Cat6</td>\n",
              "      <td>Cat8</td>\n",
              "    </tr>\n",
              "    <tr>\n",
              "      <th>3</th>\n",
              "      <td>0.0</td>\n",
              "      <td>1.0</td>\n",
              "      <td>1.0</td>\n",
              "      <td>1.0</td>\n",
              "      <td>28.0</td>\n",
              "      <td>1.0</td>\n",
              "      <td>0.0</td>\n",
              "      <td>0.0</td>\n",
              "      <td>1.0</td>\n",
              "      <td>1.0</td>\n",
              "      <td>...</td>\n",
              "      <td>1.0</td>\n",
              "      <td>0.0</td>\n",
              "      <td>Medium</td>\n",
              "      <td>0.0</td>\n",
              "      <td>3.0</td>\n",
              "      <td>0.0</td>\n",
              "      <td>male</td>\n",
              "      <td>11.0</td>\n",
              "      <td>Cat6</td>\n",
              "      <td>Cat8</td>\n",
              "    </tr>\n",
              "    <tr>\n",
              "      <th>4</th>\n",
              "      <td>0.0</td>\n",
              "      <td>0.0</td>\n",
              "      <td>0.0</td>\n",
              "      <td>1.0</td>\n",
              "      <td>29.0</td>\n",
              "      <td>1.0</td>\n",
              "      <td>0.0</td>\n",
              "      <td>0.0</td>\n",
              "      <td>1.0</td>\n",
              "      <td>1.0</td>\n",
              "      <td>...</td>\n",
              "      <td>1.0</td>\n",
              "      <td>0.0</td>\n",
              "      <td>Good</td>\n",
              "      <td>0.0</td>\n",
              "      <td>0.0</td>\n",
              "      <td>0.0</td>\n",
              "      <td>female</td>\n",
              "      <td>8.0</td>\n",
              "      <td>Cat5</td>\n",
              "      <td>Cat8</td>\n",
              "    </tr>\n",
              "    <tr>\n",
              "      <th>...</th>\n",
              "      <td>...</td>\n",
              "      <td>...</td>\n",
              "      <td>...</td>\n",
              "      <td>...</td>\n",
              "      <td>...</td>\n",
              "      <td>...</td>\n",
              "      <td>...</td>\n",
              "      <td>...</td>\n",
              "      <td>...</td>\n",
              "      <td>...</td>\n",
              "      <td>...</td>\n",
              "      <td>...</td>\n",
              "      <td>...</td>\n",
              "      <td>...</td>\n",
              "      <td>...</td>\n",
              "      <td>...</td>\n",
              "      <td>...</td>\n",
              "      <td>...</td>\n",
              "      <td>...</td>\n",
              "      <td>...</td>\n",
              "      <td>...</td>\n",
              "    </tr>\n",
              "    <tr>\n",
              "      <th>70687</th>\n",
              "      <td>1.0</td>\n",
              "      <td>0.0</td>\n",
              "      <td>1.0</td>\n",
              "      <td>1.0</td>\n",
              "      <td>37.0</td>\n",
              "      <td>0.0</td>\n",
              "      <td>0.0</td>\n",
              "      <td>0.0</td>\n",
              "      <td>0.0</td>\n",
              "      <td>0.0</td>\n",
              "      <td>...</td>\n",
              "      <td>1.0</td>\n",
              "      <td>0.0</td>\n",
              "      <td>Low</td>\n",
              "      <td>0.0</td>\n",
              "      <td>0.0</td>\n",
              "      <td>0.0</td>\n",
              "      <td>female</td>\n",
              "      <td>6.0</td>\n",
              "      <td>Cat4</td>\n",
              "      <td>Cat1</td>\n",
              "    </tr>\n",
              "    <tr>\n",
              "      <th>70688</th>\n",
              "      <td>1.0</td>\n",
              "      <td>0.0</td>\n",
              "      <td>1.0</td>\n",
              "      <td>1.0</td>\n",
              "      <td>29.0</td>\n",
              "      <td>1.0</td>\n",
              "      <td>0.0</td>\n",
              "      <td>1.0</td>\n",
              "      <td>0.0</td>\n",
              "      <td>1.0</td>\n",
              "      <td>...</td>\n",
              "      <td>1.0</td>\n",
              "      <td>0.0</td>\n",
              "      <td>Good</td>\n",
              "      <td>0.0</td>\n",
              "      <td>0.0</td>\n",
              "      <td>1.0</td>\n",
              "      <td>male</td>\n",
              "      <td>10.0</td>\n",
              "      <td>Cat3</td>\n",
              "      <td>Cat6</td>\n",
              "    </tr>\n",
              "    <tr>\n",
              "      <th>70689</th>\n",
              "      <td>1.0</td>\n",
              "      <td>1.0</td>\n",
              "      <td>1.0</td>\n",
              "      <td>1.0</td>\n",
              "      <td>25.0</td>\n",
              "      <td>0.0</td>\n",
              "      <td>0.0</td>\n",
              "      <td>1.0</td>\n",
              "      <td>0.0</td>\n",
              "      <td>1.0</td>\n",
              "      <td>...</td>\n",
              "      <td>1.0</td>\n",
              "      <td>0.0</td>\n",
              "      <td>Very Low</td>\n",
              "      <td>15.0</td>\n",
              "      <td>0.0</td>\n",
              "      <td>1.0</td>\n",
              "      <td>female</td>\n",
              "      <td>13.0</td>\n",
              "      <td>Cat6</td>\n",
              "      <td>Cat4</td>\n",
              "    </tr>\n",
              "    <tr>\n",
              "      <th>70690</th>\n",
              "      <td>1.0</td>\n",
              "      <td>1.0</td>\n",
              "      <td>1.0</td>\n",
              "      <td>1.0</td>\n",
              "      <td>18.0</td>\n",
              "      <td>0.0</td>\n",
              "      <td>0.0</td>\n",
              "      <td>0.0</td>\n",
              "      <td>0.0</td>\n",
              "      <td>0.0</td>\n",
              "      <td>...</td>\n",
              "      <td>1.0</td>\n",
              "      <td>0.0</td>\n",
              "      <td>Low</td>\n",
              "      <td>0.0</td>\n",
              "      <td>0.0</td>\n",
              "      <td>1.0</td>\n",
              "      <td>female</td>\n",
              "      <td>11.0</td>\n",
              "      <td>Cat2</td>\n",
              "      <td>Cat4</td>\n",
              "    </tr>\n",
              "    <tr>\n",
              "      <th>70691</th>\n",
              "      <td>1.0</td>\n",
              "      <td>1.0</td>\n",
              "      <td>1.0</td>\n",
              "      <td>1.0</td>\n",
              "      <td>25.0</td>\n",
              "      <td>0.0</td>\n",
              "      <td>0.0</td>\n",
              "      <td>1.0</td>\n",
              "      <td>1.0</td>\n",
              "      <td>1.0</td>\n",
              "      <td>...</td>\n",
              "      <td>1.0</td>\n",
              "      <td>0.0</td>\n",
              "      <td>Good</td>\n",
              "      <td>0.0</td>\n",
              "      <td>0.0</td>\n",
              "      <td>0.0</td>\n",
              "      <td>female</td>\n",
              "      <td>9.0</td>\n",
              "      <td>Cat6</td>\n",
              "      <td>Cat2</td>\n",
              "    </tr>\n",
              "  </tbody>\n",
              "</table>\n",
              "<p>70692 rows × 22 columns</p>\n",
              "</div>\n",
              "      <button class=\"colab-df-convert\" onclick=\"convertToInteractive('df-98927356-ac6e-4f6c-a80f-7b62dea7beb4')\"\n",
              "              title=\"Convert this dataframe to an interactive table.\"\n",
              "              style=\"display:none;\">\n",
              "        \n",
              "  <svg xmlns=\"http://www.w3.org/2000/svg\" height=\"24px\"viewBox=\"0 0 24 24\"\n",
              "       width=\"24px\">\n",
              "    <path d=\"M0 0h24v24H0V0z\" fill=\"none\"/>\n",
              "    <path d=\"M18.56 5.44l.94 2.06.94-2.06 2.06-.94-2.06-.94-.94-2.06-.94 2.06-2.06.94zm-11 1L8.5 8.5l.94-2.06 2.06-.94-2.06-.94L8.5 2.5l-.94 2.06-2.06.94zm10 10l.94 2.06.94-2.06 2.06-.94-2.06-.94-.94-2.06-.94 2.06-2.06.94z\"/><path d=\"M17.41 7.96l-1.37-1.37c-.4-.4-.92-.59-1.43-.59-.52 0-1.04.2-1.43.59L10.3 9.45l-7.72 7.72c-.78.78-.78 2.05 0 2.83L4 21.41c.39.39.9.59 1.41.59.51 0 1.02-.2 1.41-.59l7.78-7.78 2.81-2.81c.8-.78.8-2.07 0-2.86zM5.41 20L4 18.59l7.72-7.72 1.47 1.35L5.41 20z\"/>\n",
              "  </svg>\n",
              "      </button>\n",
              "      \n",
              "  <style>\n",
              "    .colab-df-container {\n",
              "      display:flex;\n",
              "      flex-wrap:wrap;\n",
              "      gap: 12px;\n",
              "    }\n",
              "\n",
              "    .colab-df-convert {\n",
              "      background-color: #E8F0FE;\n",
              "      border: none;\n",
              "      border-radius: 50%;\n",
              "      cursor: pointer;\n",
              "      display: none;\n",
              "      fill: #1967D2;\n",
              "      height: 32px;\n",
              "      padding: 0 0 0 0;\n",
              "      width: 32px;\n",
              "    }\n",
              "\n",
              "    .colab-df-convert:hover {\n",
              "      background-color: #E2EBFA;\n",
              "      box-shadow: 0px 1px 2px rgba(60, 64, 67, 0.3), 0px 1px 3px 1px rgba(60, 64, 67, 0.15);\n",
              "      fill: #174EA6;\n",
              "    }\n",
              "\n",
              "    [theme=dark] .colab-df-convert {\n",
              "      background-color: #3B4455;\n",
              "      fill: #D2E3FC;\n",
              "    }\n",
              "\n",
              "    [theme=dark] .colab-df-convert:hover {\n",
              "      background-color: #434B5C;\n",
              "      box-shadow: 0px 1px 3px 1px rgba(0, 0, 0, 0.15);\n",
              "      filter: drop-shadow(0px 1px 2px rgba(0, 0, 0, 0.3));\n",
              "      fill: #FFFFFF;\n",
              "    }\n",
              "  </style>\n",
              "\n",
              "      <script>\n",
              "        const buttonEl =\n",
              "          document.querySelector('#df-98927356-ac6e-4f6c-a80f-7b62dea7beb4 button.colab-df-convert');\n",
              "        buttonEl.style.display =\n",
              "          google.colab.kernel.accessAllowed ? 'block' : 'none';\n",
              "\n",
              "        async function convertToInteractive(key) {\n",
              "          const element = document.querySelector('#df-98927356-ac6e-4f6c-a80f-7b62dea7beb4');\n",
              "          const dataTable =\n",
              "            await google.colab.kernel.invokeFunction('convertToInteractive',\n",
              "                                                     [key], {});\n",
              "          if (!dataTable) return;\n",
              "\n",
              "          const docLinkHtml = 'Like what you see? Visit the ' +\n",
              "            '<a target=\"_blank\" href=https://colab.research.google.com/notebooks/data_table.ipynb>data table notebook</a>'\n",
              "            + ' to learn more about interactive tables.';\n",
              "          element.innerHTML = '';\n",
              "          dataTable['output_type'] = 'display_data';\n",
              "          await google.colab.output.renderOutput(dataTable, element);\n",
              "          const docLink = document.createElement('div');\n",
              "          docLink.innerHTML = docLinkHtml;\n",
              "          element.appendChild(docLink);\n",
              "        }\n",
              "      </script>\n",
              "    </div>\n",
              "  </div>\n",
              "  "
            ],
            "text/plain": [
              "       Diabetes_binary  HighBP  High Cholesterol  Cholesterol Check   BMI  \\\n",
              "0                  0.0     1.0               0.0                1.0  26.0   \n",
              "1                  0.0     1.0               1.0                1.0  26.0   \n",
              "2                  0.0     0.0               0.0                1.0  26.0   \n",
              "3                  0.0     1.0               1.0                1.0  28.0   \n",
              "4                  0.0     0.0               0.0                1.0  29.0   \n",
              "...                ...     ...               ...                ...   ...   \n",
              "70687              1.0     0.0               1.0                1.0  37.0   \n",
              "70688              1.0     0.0               1.0                1.0  29.0   \n",
              "70689              1.0     1.0               1.0                1.0  25.0   \n",
              "70690              1.0     1.0               1.0                1.0  18.0   \n",
              "70691              1.0     1.0               1.0                1.0  25.0   \n",
              "\n",
              "       Smoker  Stroke  HeartDiseaseorAttack  Physical Activity  Fruits  ...  \\\n",
              "0         0.0     0.0                   0.0                1.0     0.0  ...   \n",
              "1         1.0     1.0                   0.0                0.0     1.0  ...   \n",
              "2         0.0     0.0                   0.0                1.0     1.0  ...   \n",
              "3         1.0     0.0                   0.0                1.0     1.0  ...   \n",
              "4         1.0     0.0                   0.0                1.0     1.0  ...   \n",
              "...       ...     ...                   ...                ...     ...  ...   \n",
              "70687     0.0     0.0                   0.0                0.0     0.0  ...   \n",
              "70688     1.0     0.0                   1.0                0.0     1.0  ...   \n",
              "70689     0.0     0.0                   1.0                0.0     1.0  ...   \n",
              "70690     0.0     0.0                   0.0                0.0     0.0  ...   \n",
              "70691     0.0     0.0                   1.0                1.0     1.0  ...   \n",
              "\n",
              "       Any Health Care  No Doctor because of Cost  General Health  \\\n",
              "0                  1.0                        0.0          Medium   \n",
              "1                  1.0                        0.0          Medium   \n",
              "2                  1.0                        0.0            High   \n",
              "3                  1.0                        0.0          Medium   \n",
              "4                  1.0                        0.0            Good   \n",
              "...                ...                        ...             ...   \n",
              "70687              1.0                        0.0             Low   \n",
              "70688              1.0                        0.0            Good   \n",
              "70689              1.0                        0.0        Very Low   \n",
              "70690              1.0                        0.0             Low   \n",
              "70691              1.0                        0.0            Good   \n",
              "\n",
              "       Mental Health Physical Health  Difficulty Walking     Sex   Age  \\\n",
              "0                5.0            30.0                 0.0    male   4.0   \n",
              "1                0.0             0.0                 0.0    male  12.0   \n",
              "2                0.0            10.0                 0.0    male  13.0   \n",
              "3                0.0             3.0                 0.0    male  11.0   \n",
              "4                0.0             0.0                 0.0  female   8.0   \n",
              "...              ...             ...                 ...     ...   ...   \n",
              "70687            0.0             0.0                 0.0  female   6.0   \n",
              "70688            0.0             0.0                 1.0    male  10.0   \n",
              "70689           15.0             0.0                 1.0  female  13.0   \n",
              "70690            0.0             0.0                 1.0  female  11.0   \n",
              "70691            0.0             0.0                 0.0  female   9.0   \n",
              "\n",
              "      Education  Income  \n",
              "0          Cat6    Cat8  \n",
              "1          Cat6    Cat8  \n",
              "2          Cat6    Cat8  \n",
              "3          Cat6    Cat8  \n",
              "4          Cat5    Cat8  \n",
              "...         ...     ...  \n",
              "70687      Cat4    Cat1  \n",
              "70688      Cat3    Cat6  \n",
              "70689      Cat6    Cat4  \n",
              "70690      Cat2    Cat4  \n",
              "70691      Cat6    Cat2  \n",
              "\n",
              "[70692 rows x 22 columns]"
            ]
          },
          "execution_count": 415,
          "metadata": {},
          "output_type": "execute_result"
        }
      ],
      "source": [
        "df = pd.read_csv(\"/content/gdrive/My Drive/diabetes.csv\")\n",
        "df = df.drop([\"Unnamed: 0\"], axis = 1)\n",
        "df"
      ]
    },
    {
      "cell_type": "markdown",
      "metadata": {
        "id": "uSoahv5_CNec"
      },
      "source": [
        "# 1 preprocessing\n",
        "\n",
        "## 1.1 Remove Nan values"
      ]
    },
    {
      "cell_type": "code",
      "execution_count": null,
      "metadata": {
        "colab": {
          "base_uri": "https://localhost:8080/"
        },
        "id": "YvfQAR-N_pF1",
        "outputId": "4f1d50ca-156e-4edb-a699-0b2ba008977e"
      },
      "outputs": [
        {
          "name": "stdout",
          "output_type": "stream",
          "text": [
            "Diabetes_binary --> [2 values] --> [0. 1.]\n",
            "HighBP --> [2 values] --> [1. 0.]\n",
            "High Cholesterol --> [2 values] --> [0. 1.]\n",
            "Cholesterol Check --> [2 values] --> [1. 0.]\n",
            "BMI --> [81 values] --> [26. 28. 29. 18. 31. 32. 27. 24. 21. 58. 30. 20. 22. 38. 40. 25. 36. 47.\n",
            " 19. 37. 41. 23. 34. 35. 42. 17. 33. 44. 15. 52. 69. 56. 45. 39. 92. 53.\n",
            " 98. 50. 46. 79. 48. 16. 63. 72. 54. 49. 68. 43. 84. 73. 76. 55. 51. 75.\n",
            " 57. 60. 12. 77. 82. 67. 71. 61. 14. 81. 59. 86. 13. 87. 65. 95. 89. 62.\n",
            " 64. 66. 85. 70. 83. nan 80. 78. 74.]\n",
            "Smoker --> [2 values] --> [0. 1.]\n",
            "Stroke --> [2 values] --> [0. 1.]\n",
            "HeartDiseaseorAttack --> [3 values] --> [ 0.  1. nan]\n",
            "Physical Activity --> [3 values] --> [ 1.  0. nan]\n",
            "Fruits --> [3 values] --> [ 0.  1. nan]\n",
            "Veggies --> [3 values] --> [ 1.  0. nan]\n",
            "Heavy Alcohol Consumption --> [3 values] --> [ 0.  1. nan]\n",
            "Any Health Care --> [3 values] --> [ 1.  0. nan]\n",
            "No Doctor because of Cost --> [3 values] --> [ 0.  1. nan]\n",
            "General Health --> [6 values] --> ['Medium' 'High' 'Good' 'Low' 'Very Low' nan]\n",
            "Mental Health --> [32 values] --> [ 5.  0.  7.  3.  4.  2. 30. 20.  1. 15. 10. 25. 14. 28.  6. 29. 26. 12.\n",
            " 16. 22. 13.  8.  9. 21. 18. 17. 27. nan 24. 23. 11. 19.]\n",
            "Physical Health --> [32 values] --> [30.  0. 10.  3.  6.  4. 15.  1.  2. 14.  7. 25. 21. 20.  5.  8. 22. 23.\n",
            " 29. 12. 18. 28. 26. 24. 27. 11. 13. 16. 17.  9. 19. nan]\n",
            "Difficulty Walking --> [3 values] --> [ 0.  1. nan]\n",
            "Sex --> [3 values] --> ['male' 'female' nan]\n",
            "Age --> [14 values] --> [ 4. 12. 13. 11.  8.  1.  6.  3.  7. 10.  9.  5.  2. nan]\n",
            "Education --> [7 values] --> ['Cat6' 'Cat5' 'Cat4' 'Cat3' 'Cat2' 'Cat1' nan]\n",
            "Income --> [10 values] --> ['Cat8' 'Cat7' 'Cat6' 'Cat3' 'Cat4' 'Cat1' 'Cat5' 'Cat2' nan 'Unknown']\n"
          ]
        }
      ],
      "source": [
        "columns_name = list(df.columns)\n",
        "def unique_col_values_printer():\n",
        "  for column in columns_name:\n",
        "    print(\"{} --> [{} values] --> {}\".format(column, len(df[column].unique()), df[column].unique()) )\n",
        "unique_col_values_printer()"
      ]
    },
    {
      "cell_type": "code",
      "execution_count": null,
      "metadata": {
        "colab": {
          "base_uri": "https://localhost:8080/"
        },
        "id": "lYUNMZg55gYh",
        "outputId": "ca8824cf-c8b7-4008-f997-eff3e64fb636"
      },
      "outputs": [
        {
          "data": {
            "text/plain": [
              "Diabetes_binary              0\n",
              "HighBP                       0\n",
              "High Cholesterol             0\n",
              "Cholesterol Check            0\n",
              "BMI                          1\n",
              "Smoker                       0\n",
              "Stroke                       0\n",
              "HeartDiseaseorAttack         1\n",
              "Physical Activity            1\n",
              "Fruits                       2\n",
              "Veggies                      1\n",
              "Heavy Alcohol Consumption    1\n",
              "Any Health Care              2\n",
              "No Doctor because of Cost    2\n",
              "General Health               1\n",
              "Mental Health                1\n",
              "Physical Health              1\n",
              "Difficulty Walking           2\n",
              "Sex                          1\n",
              "Age                          1\n",
              "Education                    1\n",
              "Income                       1\n",
              "dtype: int64"
            ]
          },
          "execution_count": 417,
          "metadata": {},
          "output_type": "execute_result"
        }
      ],
      "source": [
        "df.isna().sum()"
      ]
    },
    {
      "cell_type": "code",
      "execution_count": null,
      "metadata": {
        "id": "d00fGdd-Bqyk"
      },
      "outputs": [],
      "source": [
        "df = df[df['Income'] != 'Unknown']"
      ]
    },
    {
      "cell_type": "markdown",
      "metadata": {
        "id": "cbnXT4b2AN_s"
      },
      "source": [
        "\n",
        "<div>\n",
        "<font color = \"Blue\">\n",
        "As can be seen, the number of rows containing nan value is minimal compared to the total data points. In this situation, for cases such as MBI and AGE, which are numerical and continuous values, we can use the method of substituting the median or average. But, removing these data points is preferred based on small amounts.\n",
        "Among the values available for the data, except nan, we have only one item for income, the value of which is unusual and equal to UnKnown; we also remove this row.\n",
        "\n",
        "</div>\n",
        "\n"
      ]
    },
    {
      "cell_type": "code",
      "execution_count": null,
      "metadata": {
        "colab": {
          "base_uri": "https://localhost:8080/"
        },
        "id": "WTV-jMuY9xB5",
        "outputId": "8c5860d6-ee15-4630-a4e7-8a3952a87203"
      },
      "outputs": [
        {
          "name": "stdout",
          "output_type": "stream",
          "text": [
            "Diabetes_binary --> [2 values] --> [0. 1.]\n",
            "HighBP --> [2 values] --> [1. 0.]\n",
            "High Cholesterol --> [2 values] --> [0. 1.]\n",
            "Cholesterol Check --> [2 values] --> [1. 0.]\n",
            "BMI --> [80 values] --> [26. 28. 29. 18. 31. 32. 27. 24. 21. 58. 30. 20. 22. 38. 40. 25. 36. 47.\n",
            " 19. 37. 41. 23. 34. 35. 42. 17. 33. 44. 15. 52. 69. 56. 45. 39. 92. 53.\n",
            " 98. 50. 46. 79. 48. 16. 63. 72. 54. 49. 68. 43. 84. 73. 76. 55. 51. 75.\n",
            " 57. 60. 12. 77. 82. 67. 71. 61. 14. 81. 59. 86. 13. 87. 65. 95. 89. 62.\n",
            " 64. 66. 85. 70. 83. 80. 78. 74.]\n",
            "Smoker --> [2 values] --> [0. 1.]\n",
            "Stroke --> [2 values] --> [0. 1.]\n",
            "HeartDiseaseorAttack --> [2 values] --> [0. 1.]\n",
            "Physical Activity --> [2 values] --> [1. 0.]\n",
            "Fruits --> [2 values] --> [0. 1.]\n",
            "Veggies --> [2 values] --> [1. 0.]\n",
            "Heavy Alcohol Consumption --> [2 values] --> [0. 1.]\n",
            "Any Health Care --> [2 values] --> [1. 0.]\n",
            "No Doctor because of Cost --> [2 values] --> [0. 1.]\n",
            "General Health --> [5 values] --> ['Medium' 'High' 'Good' 'Low' 'Very Low']\n",
            "Mental Health --> [31 values] --> [ 5.  0.  7.  3.  4.  2. 30. 20.  1. 15. 10. 25. 14. 28.  6. 29. 26. 12.\n",
            " 16. 22. 13.  8.  9. 21. 18. 17. 27. 24. 23. 11. 19.]\n",
            "Physical Health --> [31 values] --> [30.  0. 10.  3.  6.  4. 15.  1.  2. 14.  7. 25. 21. 20.  5.  8. 22. 23.\n",
            " 29. 12. 18. 28. 26. 24. 27. 11. 13. 16. 17.  9. 19.]\n",
            "Difficulty Walking --> [2 values] --> [0. 1.]\n",
            "Sex --> [2 values] --> ['male' 'female']\n",
            "Age --> [13 values] --> [ 4. 12. 13. 11.  8.  1.  6.  3.  7. 10.  9.  5.  2.]\n",
            "Education --> [6 values] --> ['Cat6' 'Cat5' 'Cat4' 'Cat3' 'Cat2' 'Cat1']\n",
            "Income --> [8 values] --> ['Cat8' 'Cat7' 'Cat6' 'Cat3' 'Cat4' 'Cat1' 'Cat5' 'Cat2']\n"
          ]
        }
      ],
      "source": [
        "df = df.dropna(axis=0)\n",
        "df.isna().sum()\n",
        "unique_col_values_printer()"
      ]
    },
    {
      "cell_type": "markdown",
      "metadata": {
        "id": "FNqpys6KClET"
      },
      "source": [
        "## 1.2 Remove white space\n",
        "\n",
        "only columns should be renamed there is no white space in data points values"
      ]
    },
    {
      "cell_type": "code",
      "execution_count": null,
      "metadata": {
        "colab": {
          "base_uri": "https://localhost:8080/"
        },
        "id": "3Pl3kRvD5geq",
        "outputId": "54dcfe34-1a5a-4dce-b8ea-24031989726e"
      },
      "outputs": [
        {
          "data": {
            "text/plain": [
              "Index(['Diabetes_binary', 'HighBP', 'High_Cholesterol', 'Cholesterol_Check',\n",
              "       'BMI', 'Smoker', 'Stroke', 'HeartDiseaseorAttack', 'Physical_Activity',\n",
              "       'Fruits', 'Veggies', 'Heavy_Alcohol_Consumption', 'Any_Health_Care',\n",
              "       'No_Doctor_because_of_Cost', 'General_Health', 'Mental_Health',\n",
              "       'Physical_Health', 'Difficulty_Walking', 'Sex', 'Age', 'Education',\n",
              "       'Income'],\n",
              "      dtype='object')"
            ]
          },
          "execution_count": 420,
          "metadata": {},
          "output_type": "execute_result"
        }
      ],
      "source": [
        "df.columns = [column.replace(\" \", \"_\") for column in columns_name]\n",
        "df.columns\n"
      ]
    },
    {
      "cell_type": "markdown",
      "metadata": {
        "id": "r_URGPBZI8JG"
      },
      "source": [
        "## 1.3 Normalize data"
      ]
    },
    {
      "cell_type": "markdown",
      "metadata": {
        "id": "xNFXfpABLeto"
      },
      "source": [
        "<div>\n",
        "<font color = \"Blue\">\n",
        "we know we can divide people body shapes based on BMI. so we divided all the values into four categories"
      ]
    },
    {
      "cell_type": "code",
      "execution_count": null,
      "metadata": {
        "id": "RwNaabq9-LmX"
      },
      "outputs": [],
      "source": [
        "bins = pd.IntervalIndex.from_tuples([(0, 16), (16, 30), (30, 45), (45, np.inf)], closed='left')\n",
        "cats = [1, 2, 3, 4]\n",
        "df['BMI'] = np.array(cats)[pd.cut(df[\"BMI\"], bins = bins).cat.codes].astype('float')\n",
        "\n"
      ]
    },
    {
      "cell_type": "markdown",
      "metadata": {
        "id": "ic2AHb9CUKQF"
      },
      "source": [
        "<div>\n",
        "<font color = \"Blue\">\n",
        "Now we should scale  Mental_Health', 'Age', 'Physical_Health' values. <br>\n",
        "At first, I used the StandardScaler, but I didn't get good result, so I chose the min-max scaling method"
      ]
    },
    {
      "cell_type": "code",
      "execution_count": null,
      "metadata": {
        "id": "Jv2YUajv-Lsi"
      },
      "outputs": [],
      "source": [
        "from sklearn.preprocessing import StandardScaler\n",
        "from sklearn import preprocessing\n",
        "# scaled_df = df.copy()\n",
        "# scaler = StandardScaler()\n",
        "# for col in ['Mental_Health', 'Age', 'Physical_Health']:\n",
        "#   scaled_df[col] = scaler.fit_transform(df[[col]]).flatten()\n",
        "\n",
        "scaled_df = df.copy()\n",
        "for column in ['Age', \"Mental_Health\", \"Physical_Health\"]:\n",
        "# for column in ['Mental_Health', 'Age', 'Physical_Health']:\n",
        "  scaled_df[column] = (scaled_df[column] - scaled_df[column].min()) / (scaled_df[column].max() - scaled_df[column].min())    \n"
      ]
    },
    {
      "cell_type": "markdown",
      "metadata": {
        "id": "KlacitjFXQkp"
      },
      "source": [
        "## 1.4 One-Hot Encoding\n",
        "<div>\n",
        "<font color = \"Blue\">\n",
        "Now we should find categories and replaced them by one Hot encoding_format"
      ]
    },
    {
      "cell_type": "code",
      "execution_count": null,
      "metadata": {
        "colab": {
          "base_uri": "https://localhost:8080/"
        },
        "id": "k3ZGGF7O-LvY",
        "outputId": "edd80892-b437-4133-f573-191b18fb9838"
      },
      "outputs": [
        {
          "name": "stdout",
          "output_type": "stream",
          "text": [
            "Index(['General_Health', 'Sex', 'Education', 'Income'], dtype='object')\n"
          ]
        }
      ],
      "source": [
        "categorical_cols = scaled_df.select_dtypes(include='O').keys()\n",
        "print(categorical_cols)"
      ]
    },
    {
      "cell_type": "code",
      "execution_count": null,
      "metadata": {
        "id": "DucKiD3h-Lxr"
      },
      "outputs": [],
      "source": [
        "def one_hot_encoder(dataframe):\n",
        "  for col in categorical_cols:\n",
        "    labels = df[col].unique().tolist()\n",
        "    for label in labels:\n",
        "      dataframe[col+'_'+label] = np.where(dataframe[col]==label,1,0)\n",
        "    dataframe.drop(col, axis=1, inplace=True)\n",
        "  return dataframe"
      ]
    },
    {
      "cell_type": "code",
      "execution_count": null,
      "metadata": {
        "colab": {
          "base_uri": "https://localhost:8080/",
          "height": 488
        },
        "id": "rsFzGxJx-L0i",
        "outputId": "23a39ac7-c3b6-40a9-c79f-06bc913bb658"
      },
      "outputs": [
        {
          "data": {
            "text/html": [
              "\n",
              "  <div id=\"df-6d4d92e5-dd1e-462b-8e99-fde5b27dbfc9\">\n",
              "    <div class=\"colab-df-container\">\n",
              "      <div>\n",
              "<style scoped>\n",
              "    .dataframe tbody tr th:only-of-type {\n",
              "        vertical-align: middle;\n",
              "    }\n",
              "\n",
              "    .dataframe tbody tr th {\n",
              "        vertical-align: top;\n",
              "    }\n",
              "\n",
              "    .dataframe thead th {\n",
              "        text-align: right;\n",
              "    }\n",
              "</style>\n",
              "<table border=\"1\" class=\"dataframe\">\n",
              "  <thead>\n",
              "    <tr style=\"text-align: right;\">\n",
              "      <th></th>\n",
              "      <th>Diabetes_binary</th>\n",
              "      <th>HighBP</th>\n",
              "      <th>High_Cholesterol</th>\n",
              "      <th>Cholesterol_Check</th>\n",
              "      <th>BMI</th>\n",
              "      <th>Smoker</th>\n",
              "      <th>Stroke</th>\n",
              "      <th>HeartDiseaseorAttack</th>\n",
              "      <th>Physical_Activity</th>\n",
              "      <th>Fruits</th>\n",
              "      <th>...</th>\n",
              "      <th>Education_Cat2</th>\n",
              "      <th>Education_Cat1</th>\n",
              "      <th>Income_Cat8</th>\n",
              "      <th>Income_Cat7</th>\n",
              "      <th>Income_Cat6</th>\n",
              "      <th>Income_Cat3</th>\n",
              "      <th>Income_Cat4</th>\n",
              "      <th>Income_Cat1</th>\n",
              "      <th>Income_Cat5</th>\n",
              "      <th>Income_Cat2</th>\n",
              "    </tr>\n",
              "  </thead>\n",
              "  <tbody>\n",
              "    <tr>\n",
              "      <th>0</th>\n",
              "      <td>0.0</td>\n",
              "      <td>1.0</td>\n",
              "      <td>0.0</td>\n",
              "      <td>1.0</td>\n",
              "      <td>2.0</td>\n",
              "      <td>0.0</td>\n",
              "      <td>0.0</td>\n",
              "      <td>0.0</td>\n",
              "      <td>1.0</td>\n",
              "      <td>0.0</td>\n",
              "      <td>...</td>\n",
              "      <td>0</td>\n",
              "      <td>0</td>\n",
              "      <td>1</td>\n",
              "      <td>0</td>\n",
              "      <td>0</td>\n",
              "      <td>0</td>\n",
              "      <td>0</td>\n",
              "      <td>0</td>\n",
              "      <td>0</td>\n",
              "      <td>0</td>\n",
              "    </tr>\n",
              "    <tr>\n",
              "      <th>1</th>\n",
              "      <td>0.0</td>\n",
              "      <td>1.0</td>\n",
              "      <td>1.0</td>\n",
              "      <td>1.0</td>\n",
              "      <td>2.0</td>\n",
              "      <td>1.0</td>\n",
              "      <td>1.0</td>\n",
              "      <td>0.0</td>\n",
              "      <td>0.0</td>\n",
              "      <td>1.0</td>\n",
              "      <td>...</td>\n",
              "      <td>0</td>\n",
              "      <td>0</td>\n",
              "      <td>1</td>\n",
              "      <td>0</td>\n",
              "      <td>0</td>\n",
              "      <td>0</td>\n",
              "      <td>0</td>\n",
              "      <td>0</td>\n",
              "      <td>0</td>\n",
              "      <td>0</td>\n",
              "    </tr>\n",
              "    <tr>\n",
              "      <th>2</th>\n",
              "      <td>0.0</td>\n",
              "      <td>0.0</td>\n",
              "      <td>0.0</td>\n",
              "      <td>1.0</td>\n",
              "      <td>2.0</td>\n",
              "      <td>0.0</td>\n",
              "      <td>0.0</td>\n",
              "      <td>0.0</td>\n",
              "      <td>1.0</td>\n",
              "      <td>1.0</td>\n",
              "      <td>...</td>\n",
              "      <td>0</td>\n",
              "      <td>0</td>\n",
              "      <td>1</td>\n",
              "      <td>0</td>\n",
              "      <td>0</td>\n",
              "      <td>0</td>\n",
              "      <td>0</td>\n",
              "      <td>0</td>\n",
              "      <td>0</td>\n",
              "      <td>0</td>\n",
              "    </tr>\n",
              "    <tr>\n",
              "      <th>3</th>\n",
              "      <td>0.0</td>\n",
              "      <td>1.0</td>\n",
              "      <td>1.0</td>\n",
              "      <td>1.0</td>\n",
              "      <td>2.0</td>\n",
              "      <td>1.0</td>\n",
              "      <td>0.0</td>\n",
              "      <td>0.0</td>\n",
              "      <td>1.0</td>\n",
              "      <td>1.0</td>\n",
              "      <td>...</td>\n",
              "      <td>0</td>\n",
              "      <td>0</td>\n",
              "      <td>1</td>\n",
              "      <td>0</td>\n",
              "      <td>0</td>\n",
              "      <td>0</td>\n",
              "      <td>0</td>\n",
              "      <td>0</td>\n",
              "      <td>0</td>\n",
              "      <td>0</td>\n",
              "    </tr>\n",
              "    <tr>\n",
              "      <th>4</th>\n",
              "      <td>0.0</td>\n",
              "      <td>0.0</td>\n",
              "      <td>0.0</td>\n",
              "      <td>1.0</td>\n",
              "      <td>2.0</td>\n",
              "      <td>1.0</td>\n",
              "      <td>0.0</td>\n",
              "      <td>0.0</td>\n",
              "      <td>1.0</td>\n",
              "      <td>1.0</td>\n",
              "      <td>...</td>\n",
              "      <td>0</td>\n",
              "      <td>0</td>\n",
              "      <td>1</td>\n",
              "      <td>0</td>\n",
              "      <td>0</td>\n",
              "      <td>0</td>\n",
              "      <td>0</td>\n",
              "      <td>0</td>\n",
              "      <td>0</td>\n",
              "      <td>0</td>\n",
              "    </tr>\n",
              "    <tr>\n",
              "      <th>...</th>\n",
              "      <td>...</td>\n",
              "      <td>...</td>\n",
              "      <td>...</td>\n",
              "      <td>...</td>\n",
              "      <td>...</td>\n",
              "      <td>...</td>\n",
              "      <td>...</td>\n",
              "      <td>...</td>\n",
              "      <td>...</td>\n",
              "      <td>...</td>\n",
              "      <td>...</td>\n",
              "      <td>...</td>\n",
              "      <td>...</td>\n",
              "      <td>...</td>\n",
              "      <td>...</td>\n",
              "      <td>...</td>\n",
              "      <td>...</td>\n",
              "      <td>...</td>\n",
              "      <td>...</td>\n",
              "      <td>...</td>\n",
              "      <td>...</td>\n",
              "    </tr>\n",
              "    <tr>\n",
              "      <th>70687</th>\n",
              "      <td>1.0</td>\n",
              "      <td>0.0</td>\n",
              "      <td>1.0</td>\n",
              "      <td>1.0</td>\n",
              "      <td>3.0</td>\n",
              "      <td>0.0</td>\n",
              "      <td>0.0</td>\n",
              "      <td>0.0</td>\n",
              "      <td>0.0</td>\n",
              "      <td>0.0</td>\n",
              "      <td>...</td>\n",
              "      <td>0</td>\n",
              "      <td>0</td>\n",
              "      <td>0</td>\n",
              "      <td>0</td>\n",
              "      <td>0</td>\n",
              "      <td>0</td>\n",
              "      <td>0</td>\n",
              "      <td>1</td>\n",
              "      <td>0</td>\n",
              "      <td>0</td>\n",
              "    </tr>\n",
              "    <tr>\n",
              "      <th>70688</th>\n",
              "      <td>1.0</td>\n",
              "      <td>0.0</td>\n",
              "      <td>1.0</td>\n",
              "      <td>1.0</td>\n",
              "      <td>2.0</td>\n",
              "      <td>1.0</td>\n",
              "      <td>0.0</td>\n",
              "      <td>1.0</td>\n",
              "      <td>0.0</td>\n",
              "      <td>1.0</td>\n",
              "      <td>...</td>\n",
              "      <td>0</td>\n",
              "      <td>0</td>\n",
              "      <td>0</td>\n",
              "      <td>0</td>\n",
              "      <td>1</td>\n",
              "      <td>0</td>\n",
              "      <td>0</td>\n",
              "      <td>0</td>\n",
              "      <td>0</td>\n",
              "      <td>0</td>\n",
              "    </tr>\n",
              "    <tr>\n",
              "      <th>70689</th>\n",
              "      <td>1.0</td>\n",
              "      <td>1.0</td>\n",
              "      <td>1.0</td>\n",
              "      <td>1.0</td>\n",
              "      <td>2.0</td>\n",
              "      <td>0.0</td>\n",
              "      <td>0.0</td>\n",
              "      <td>1.0</td>\n",
              "      <td>0.0</td>\n",
              "      <td>1.0</td>\n",
              "      <td>...</td>\n",
              "      <td>0</td>\n",
              "      <td>0</td>\n",
              "      <td>0</td>\n",
              "      <td>0</td>\n",
              "      <td>0</td>\n",
              "      <td>0</td>\n",
              "      <td>1</td>\n",
              "      <td>0</td>\n",
              "      <td>0</td>\n",
              "      <td>0</td>\n",
              "    </tr>\n",
              "    <tr>\n",
              "      <th>70690</th>\n",
              "      <td>1.0</td>\n",
              "      <td>1.0</td>\n",
              "      <td>1.0</td>\n",
              "      <td>1.0</td>\n",
              "      <td>2.0</td>\n",
              "      <td>0.0</td>\n",
              "      <td>0.0</td>\n",
              "      <td>0.0</td>\n",
              "      <td>0.0</td>\n",
              "      <td>0.0</td>\n",
              "      <td>...</td>\n",
              "      <td>1</td>\n",
              "      <td>0</td>\n",
              "      <td>0</td>\n",
              "      <td>0</td>\n",
              "      <td>0</td>\n",
              "      <td>0</td>\n",
              "      <td>1</td>\n",
              "      <td>0</td>\n",
              "      <td>0</td>\n",
              "      <td>0</td>\n",
              "    </tr>\n",
              "    <tr>\n",
              "      <th>70691</th>\n",
              "      <td>1.0</td>\n",
              "      <td>1.0</td>\n",
              "      <td>1.0</td>\n",
              "      <td>1.0</td>\n",
              "      <td>2.0</td>\n",
              "      <td>0.0</td>\n",
              "      <td>0.0</td>\n",
              "      <td>1.0</td>\n",
              "      <td>1.0</td>\n",
              "      <td>1.0</td>\n",
              "      <td>...</td>\n",
              "      <td>0</td>\n",
              "      <td>0</td>\n",
              "      <td>0</td>\n",
              "      <td>0</td>\n",
              "      <td>0</td>\n",
              "      <td>0</td>\n",
              "      <td>0</td>\n",
              "      <td>0</td>\n",
              "      <td>0</td>\n",
              "      <td>1</td>\n",
              "    </tr>\n",
              "  </tbody>\n",
              "</table>\n",
              "<p>70685 rows × 39 columns</p>\n",
              "</div>\n",
              "      <button class=\"colab-df-convert\" onclick=\"convertToInteractive('df-6d4d92e5-dd1e-462b-8e99-fde5b27dbfc9')\"\n",
              "              title=\"Convert this dataframe to an interactive table.\"\n",
              "              style=\"display:none;\">\n",
              "        \n",
              "  <svg xmlns=\"http://www.w3.org/2000/svg\" height=\"24px\"viewBox=\"0 0 24 24\"\n",
              "       width=\"24px\">\n",
              "    <path d=\"M0 0h24v24H0V0z\" fill=\"none\"/>\n",
              "    <path d=\"M18.56 5.44l.94 2.06.94-2.06 2.06-.94-2.06-.94-.94-2.06-.94 2.06-2.06.94zm-11 1L8.5 8.5l.94-2.06 2.06-.94-2.06-.94L8.5 2.5l-.94 2.06-2.06.94zm10 10l.94 2.06.94-2.06 2.06-.94-2.06-.94-.94-2.06-.94 2.06-2.06.94z\"/><path d=\"M17.41 7.96l-1.37-1.37c-.4-.4-.92-.59-1.43-.59-.52 0-1.04.2-1.43.59L10.3 9.45l-7.72 7.72c-.78.78-.78 2.05 0 2.83L4 21.41c.39.39.9.59 1.41.59.51 0 1.02-.2 1.41-.59l7.78-7.78 2.81-2.81c.8-.78.8-2.07 0-2.86zM5.41 20L4 18.59l7.72-7.72 1.47 1.35L5.41 20z\"/>\n",
              "  </svg>\n",
              "      </button>\n",
              "      \n",
              "  <style>\n",
              "    .colab-df-container {\n",
              "      display:flex;\n",
              "      flex-wrap:wrap;\n",
              "      gap: 12px;\n",
              "    }\n",
              "\n",
              "    .colab-df-convert {\n",
              "      background-color: #E8F0FE;\n",
              "      border: none;\n",
              "      border-radius: 50%;\n",
              "      cursor: pointer;\n",
              "      display: none;\n",
              "      fill: #1967D2;\n",
              "      height: 32px;\n",
              "      padding: 0 0 0 0;\n",
              "      width: 32px;\n",
              "    }\n",
              "\n",
              "    .colab-df-convert:hover {\n",
              "      background-color: #E2EBFA;\n",
              "      box-shadow: 0px 1px 2px rgba(60, 64, 67, 0.3), 0px 1px 3px 1px rgba(60, 64, 67, 0.15);\n",
              "      fill: #174EA6;\n",
              "    }\n",
              "\n",
              "    [theme=dark] .colab-df-convert {\n",
              "      background-color: #3B4455;\n",
              "      fill: #D2E3FC;\n",
              "    }\n",
              "\n",
              "    [theme=dark] .colab-df-convert:hover {\n",
              "      background-color: #434B5C;\n",
              "      box-shadow: 0px 1px 3px 1px rgba(0, 0, 0, 0.15);\n",
              "      filter: drop-shadow(0px 1px 2px rgba(0, 0, 0, 0.3));\n",
              "      fill: #FFFFFF;\n",
              "    }\n",
              "  </style>\n",
              "\n",
              "      <script>\n",
              "        const buttonEl =\n",
              "          document.querySelector('#df-6d4d92e5-dd1e-462b-8e99-fde5b27dbfc9 button.colab-df-convert');\n",
              "        buttonEl.style.display =\n",
              "          google.colab.kernel.accessAllowed ? 'block' : 'none';\n",
              "\n",
              "        async function convertToInteractive(key) {\n",
              "          const element = document.querySelector('#df-6d4d92e5-dd1e-462b-8e99-fde5b27dbfc9');\n",
              "          const dataTable =\n",
              "            await google.colab.kernel.invokeFunction('convertToInteractive',\n",
              "                                                     [key], {});\n",
              "          if (!dataTable) return;\n",
              "\n",
              "          const docLinkHtml = 'Like what you see? Visit the ' +\n",
              "            '<a target=\"_blank\" href=https://colab.research.google.com/notebooks/data_table.ipynb>data table notebook</a>'\n",
              "            + ' to learn more about interactive tables.';\n",
              "          element.innerHTML = '';\n",
              "          dataTable['output_type'] = 'display_data';\n",
              "          await google.colab.output.renderOutput(dataTable, element);\n",
              "          const docLink = document.createElement('div');\n",
              "          docLink.innerHTML = docLinkHtml;\n",
              "          element.appendChild(docLink);\n",
              "        }\n",
              "      </script>\n",
              "    </div>\n",
              "  </div>\n",
              "  "
            ],
            "text/plain": [
              "       Diabetes_binary  HighBP  High_Cholesterol  Cholesterol_Check  BMI  \\\n",
              "0                  0.0     1.0               0.0                1.0  2.0   \n",
              "1                  0.0     1.0               1.0                1.0  2.0   \n",
              "2                  0.0     0.0               0.0                1.0  2.0   \n",
              "3                  0.0     1.0               1.0                1.0  2.0   \n",
              "4                  0.0     0.0               0.0                1.0  2.0   \n",
              "...                ...     ...               ...                ...  ...   \n",
              "70687              1.0     0.0               1.0                1.0  3.0   \n",
              "70688              1.0     0.0               1.0                1.0  2.0   \n",
              "70689              1.0     1.0               1.0                1.0  2.0   \n",
              "70690              1.0     1.0               1.0                1.0  2.0   \n",
              "70691              1.0     1.0               1.0                1.0  2.0   \n",
              "\n",
              "       Smoker  Stroke  HeartDiseaseorAttack  Physical_Activity  Fruits  ...  \\\n",
              "0         0.0     0.0                   0.0                1.0     0.0  ...   \n",
              "1         1.0     1.0                   0.0                0.0     1.0  ...   \n",
              "2         0.0     0.0                   0.0                1.0     1.0  ...   \n",
              "3         1.0     0.0                   0.0                1.0     1.0  ...   \n",
              "4         1.0     0.0                   0.0                1.0     1.0  ...   \n",
              "...       ...     ...                   ...                ...     ...  ...   \n",
              "70687     0.0     0.0                   0.0                0.0     0.0  ...   \n",
              "70688     1.0     0.0                   1.0                0.0     1.0  ...   \n",
              "70689     0.0     0.0                   1.0                0.0     1.0  ...   \n",
              "70690     0.0     0.0                   0.0                0.0     0.0  ...   \n",
              "70691     0.0     0.0                   1.0                1.0     1.0  ...   \n",
              "\n",
              "       Education_Cat2  Education_Cat1  Income_Cat8  Income_Cat7  Income_Cat6  \\\n",
              "0                   0               0            1            0            0   \n",
              "1                   0               0            1            0            0   \n",
              "2                   0               0            1            0            0   \n",
              "3                   0               0            1            0            0   \n",
              "4                   0               0            1            0            0   \n",
              "...               ...             ...          ...          ...          ...   \n",
              "70687               0               0            0            0            0   \n",
              "70688               0               0            0            0            1   \n",
              "70689               0               0            0            0            0   \n",
              "70690               1               0            0            0            0   \n",
              "70691               0               0            0            0            0   \n",
              "\n",
              "       Income_Cat3  Income_Cat4  Income_Cat1  Income_Cat5  Income_Cat2  \n",
              "0                0            0            0            0            0  \n",
              "1                0            0            0            0            0  \n",
              "2                0            0            0            0            0  \n",
              "3                0            0            0            0            0  \n",
              "4                0            0            0            0            0  \n",
              "...            ...          ...          ...          ...          ...  \n",
              "70687            0            0            1            0            0  \n",
              "70688            0            0            0            0            0  \n",
              "70689            0            1            0            0            0  \n",
              "70690            0            1            0            0            0  \n",
              "70691            0            0            0            0            1  \n",
              "\n",
              "[70685 rows x 39 columns]"
            ]
          },
          "execution_count": 427,
          "metadata": {},
          "output_type": "execute_result"
        }
      ],
      "source": [
        "one_hot_encoded_df = one_hot_encoder(scaled_df)\n",
        "one_hot_encoded_df"
      ]
    },
    {
      "cell_type": "code",
      "execution_count": null,
      "metadata": {
        "colab": {
          "base_uri": "https://localhost:8080/"
        },
        "id": "INiYINBR5fsT",
        "outputId": "1ef3e005-a0d9-45eb-99e3-867860739a1f"
      },
      "outputs": [
        {
          "data": {
            "text/plain": [
              "Index([], dtype='object')"
            ]
          },
          "execution_count": 428,
          "metadata": {},
          "output_type": "execute_result"
        }
      ],
      "source": [
        "one_hot_encoded_df.select_dtypes(include='O').keys()"
      ]
    },
    {
      "cell_type": "markdown",
      "metadata": {
        "id": "V9UmMHwPfIDV"
      },
      "source": [
        "## 1.5 Train and Test split"
      ]
    },
    {
      "cell_type": "code",
      "execution_count": null,
      "metadata": {
        "id": "3d2OH_74Z1VJ"
      },
      "outputs": [],
      "source": [
        "data_dims = one_hot_encoded_df.drop(['Diabetes_binary'], axis=1)\n",
        "labels = one_hot_encoded_df['Diabetes_binary']"
      ]
    },
    {
      "cell_type": "code",
      "execution_count": null,
      "metadata": {
        "id": "2jpcuiNbZ1YV"
      },
      "outputs": [],
      "source": [
        "from sklearn.model_selection import train_test_split\n",
        "X_train, X_test, y_train, y_test = train_test_split(data_dims, labels, test_size=0.2, random_state=42, stratify=labels)"
      ]
    },
    {
      "cell_type": "markdown",
      "metadata": {
        "id": "vCO5ZjHKln8K"
      },
      "source": [
        "# 2 XGBoost classifier model"
      ]
    },
    {
      "cell_type": "code",
      "execution_count": null,
      "metadata": {
        "id": "y9ZuoRyOo0SL"
      },
      "outputs": [],
      "source": [
        "from sklearn.metrics import confusion_matrix, precision_score, recall_score\n",
        "from sklearn.metrics import auc\n",
        "from xgboost import XGBClassifier"
      ]
    },
    {
      "cell_type": "markdown",
      "metadata": {
        "id": "ZB5pzgsLpQmx"
      },
      "source": [
        "## 2.1 Define model"
      ]
    },
    {
      "cell_type": "code",
      "execution_count": null,
      "metadata": {
        "id": "vixilJlmZ1a4"
      },
      "outputs": [],
      "source": [
        "model = XGBClassifier(\n",
        "            tree_method='gpu_hist', # We use this parameter to train the model and run gridsearch on GPU, which increases our speed considerably. \n",
        "            Learning_rate=0.1,\n",
        "            Max_depth=4,\n",
        "            N_estimator=200,\n",
        "            Subsample=0.5,\n",
        "            Colsample_bytree=1,\n",
        "            Random_seed=123,\n",
        "            Eval_metric='auc',\n",
        "            Verbosity=1)"
      ]
    },
    {
      "cell_type": "markdown",
      "metadata": {
        "id": "xt41p5l4pUQp"
      },
      "source": [
        "## 2.2 Train model"
      ]
    },
    {
      "cell_type": "code",
      "execution_count": null,
      "metadata": {
        "colab": {
          "base_uri": "https://localhost:8080/"
        },
        "id": "baO2-LhhZ1dX",
        "outputId": "a09738e1-ace6-4dd0-8337-95d04ebf41f7"
      },
      "outputs": [
        {
          "name": "stdout",
          "output_type": "stream",
          "text": [
            "[0]\tvalidation_0-error:0.289665\tvalidation_1-error:0.290939\n",
            "Multiple eval metrics have been passed: 'validation_1-error' will be used for early stopping.\n",
            "\n",
            "Will train until validation_1-error hasn't improved in 10 rounds.\n",
            "[1]\tvalidation_0-error:0.276827\tvalidation_1-error:0.274103\n",
            "[2]\tvalidation_0-error:0.29559\tvalidation_1-error:0.295961\n",
            "[3]\tvalidation_0-error:0.279479\tvalidation_1-error:0.280116\n",
            "[4]\tvalidation_0-error:0.283564\tvalidation_1-error:0.282875\n",
            "[5]\tvalidation_0-error:0.28696\tvalidation_1-error:0.286341\n",
            "[6]\tvalidation_0-error:0.282397\tvalidation_1-error:0.282026\n",
            "[7]\tvalidation_0-error:0.274988\tvalidation_1-error:0.274316\n",
            "[8]\tvalidation_0-error:0.276615\tvalidation_1-error:0.276367\n",
            "[9]\tvalidation_0-error:0.276526\tvalidation_1-error:0.276013\n",
            "[10]\tvalidation_0-error:0.272459\tvalidation_1-error:0.271203\n",
            "[11]\tvalidation_0-error:0.269435\tvalidation_1-error:0.26802\n",
            "[12]\tvalidation_0-error:0.267843\tvalidation_1-error:0.265969\n",
            "[13]\tvalidation_0-error:0.266818\tvalidation_1-error:0.265544\n",
            "[14]\tvalidation_0-error:0.26512\tvalidation_1-error:0.261725\n",
            "[15]\tvalidation_0-error:0.265173\tvalidation_1-error:0.262432\n",
            "[16]\tvalidation_0-error:0.26344\tvalidation_1-error:0.262503\n",
            "[17]\tvalidation_0-error:0.261229\tvalidation_1-error:0.260098\n",
            "[18]\tvalidation_0-error:0.260593\tvalidation_1-error:0.258188\n",
            "[19]\tvalidation_0-error:0.259443\tvalidation_1-error:0.257268\n",
            "[20]\tvalidation_0-error:0.258435\tvalidation_1-error:0.254934\n",
            "[21]\tvalidation_0-error:0.258046\tvalidation_1-error:0.254792\n",
            "[22]\tvalidation_0-error:0.257993\tvalidation_1-error:0.253802\n",
            "[23]\tvalidation_0-error:0.257463\tvalidation_1-error:0.25458\n",
            "[24]\tvalidation_0-error:0.257304\tvalidation_1-error:0.253802\n",
            "[25]\tvalidation_0-error:0.256455\tvalidation_1-error:0.25267\n",
            "[26]\tvalidation_0-error:0.256543\tvalidation_1-error:0.252387\n",
            "[27]\tvalidation_0-error:0.256101\tvalidation_1-error:0.252317\n",
            "[28]\tvalidation_0-error:0.255765\tvalidation_1-error:0.251185\n",
            "[29]\tvalidation_0-error:0.255482\tvalidation_1-error:0.25069\n",
            "[30]\tvalidation_0-error:0.255411\tvalidation_1-error:0.250477\n",
            "[31]\tvalidation_0-error:0.255093\tvalidation_1-error:0.250477\n",
            "[32]\tvalidation_0-error:0.254863\tvalidation_1-error:0.250195\n",
            "[33]\tvalidation_0-error:0.254739\tvalidation_1-error:0.251114\n",
            "[34]\tvalidation_0-error:0.254545\tvalidation_1-error:0.251892\n",
            "[35]\tvalidation_0-error:0.25435\tvalidation_1-error:0.250265\n",
            "[36]\tvalidation_0-error:0.254439\tvalidation_1-error:0.249629\n",
            "[37]\tvalidation_0-error:0.253961\tvalidation_1-error:0.249416\n",
            "[38]\tvalidation_0-error:0.253431\tvalidation_1-error:0.249133\n",
            "[39]\tvalidation_0-error:0.253183\tvalidation_1-error:0.249841\n",
            "[40]\tvalidation_0-error:0.252723\tvalidation_1-error:0.249416\n",
            "[41]\tvalidation_0-error:0.252334\tvalidation_1-error:0.249629\n",
            "[42]\tvalidation_0-error:0.252582\tvalidation_1-error:0.249063\n",
            "[43]\tvalidation_0-error:0.252281\tvalidation_1-error:0.248992\n",
            "[44]\tvalidation_0-error:0.252617\tvalidation_1-error:0.249063\n",
            "[45]\tvalidation_0-error:0.252228\tvalidation_1-error:0.249133\n",
            "[46]\tvalidation_0-error:0.252193\tvalidation_1-error:0.248709\n",
            "[47]\tvalidation_0-error:0.252458\tvalidation_1-error:0.248638\n",
            "[48]\tvalidation_0-error:0.252387\tvalidation_1-error:0.248355\n",
            "[49]\tvalidation_0-error:0.251892\tvalidation_1-error:0.248214\n",
            "[50]\tvalidation_0-error:0.251786\tvalidation_1-error:0.248355\n",
            "[51]\tvalidation_0-error:0.251733\tvalidation_1-error:0.248143\n",
            "[52]\tvalidation_0-error:0.251556\tvalidation_1-error:0.248143\n",
            "[53]\tvalidation_0-error:0.251326\tvalidation_1-error:0.248285\n",
            "[54]\tvalidation_0-error:0.251397\tvalidation_1-error:0.248002\n",
            "[55]\tvalidation_0-error:0.251132\tvalidation_1-error:0.247507\n",
            "[56]\tvalidation_0-error:0.250955\tvalidation_1-error:0.247648\n",
            "[57]\tvalidation_0-error:0.250831\tvalidation_1-error:0.247648\n",
            "[58]\tvalidation_0-error:0.25099\tvalidation_1-error:0.247648\n",
            "[59]\tvalidation_0-error:0.25092\tvalidation_1-error:0.248002\n",
            "[60]\tvalidation_0-error:0.250831\tvalidation_1-error:0.247789\n",
            "[61]\tvalidation_0-error:0.250336\tvalidation_1-error:0.247931\n",
            "[62]\tvalidation_0-error:0.250212\tvalidation_1-error:0.247577\n",
            "[63]\tvalidation_0-error:0.250141\tvalidation_1-error:0.247648\n",
            "[64]\tvalidation_0-error:0.25023\tvalidation_1-error:0.247224\n",
            "[65]\tvalidation_0-error:0.250177\tvalidation_1-error:0.247577\n",
            "[66]\tvalidation_0-error:0.250071\tvalidation_1-error:0.247648\n",
            "[67]\tvalidation_0-error:0.249965\tvalidation_1-error:0.247648\n",
            "[68]\tvalidation_0-error:0.249929\tvalidation_1-error:0.247507\n",
            "[69]\tvalidation_0-error:0.249876\tvalidation_1-error:0.247294\n",
            "[70]\tvalidation_0-error:0.250018\tvalidation_1-error:0.247294\n",
            "[71]\tvalidation_0-error:0.249805\tvalidation_1-error:0.247224\n",
            "[72]\tvalidation_0-error:0.249805\tvalidation_1-error:0.247082\n",
            "[73]\tvalidation_0-error:0.24977\tvalidation_1-error:0.247365\n",
            "[74]\tvalidation_0-error:0.249523\tvalidation_1-error:0.247789\n",
            "[75]\tvalidation_0-error:0.249646\tvalidation_1-error:0.247365\n",
            "[76]\tvalidation_0-error:0.24977\tvalidation_1-error:0.247507\n",
            "[77]\tvalidation_0-error:0.249629\tvalidation_1-error:0.246658\n",
            "[78]\tvalidation_0-error:0.249452\tvalidation_1-error:0.24687\n",
            "[79]\tvalidation_0-error:0.249363\tvalidation_1-error:0.246799\n",
            "[80]\tvalidation_0-error:0.249363\tvalidation_1-error:0.246516\n",
            "[81]\tvalidation_0-error:0.249063\tvalidation_1-error:0.246375\n",
            "[82]\tvalidation_0-error:0.249187\tvalidation_1-error:0.246304\n",
            "[83]\tvalidation_0-error:0.249346\tvalidation_1-error:0.246163\n",
            "[84]\tvalidation_0-error:0.249169\tvalidation_1-error:0.246163\n",
            "[85]\tvalidation_0-error:0.249027\tvalidation_1-error:0.246233\n",
            "[86]\tvalidation_0-error:0.24908\tvalidation_1-error:0.246233\n",
            "[87]\tvalidation_0-error:0.248904\tvalidation_1-error:0.246304\n",
            "[88]\tvalidation_0-error:0.248992\tvalidation_1-error:0.24595\n",
            "[89]\tvalidation_0-error:0.248833\tvalidation_1-error:0.246163\n",
            "[90]\tvalidation_0-error:0.248762\tvalidation_1-error:0.246021\n",
            "[91]\tvalidation_0-error:0.248921\tvalidation_1-error:0.246233\n",
            "[92]\tvalidation_0-error:0.248833\tvalidation_1-error:0.24588\n",
            "[93]\tvalidation_0-error:0.248638\tvalidation_1-error:0.24588\n",
            "[94]\tvalidation_0-error:0.248762\tvalidation_1-error:0.246021\n",
            "[95]\tvalidation_0-error:0.248674\tvalidation_1-error:0.246163\n",
            "[96]\tvalidation_0-error:0.248585\tvalidation_1-error:0.24595\n",
            "[97]\tvalidation_0-error:0.248833\tvalidation_1-error:0.246092\n",
            "[98]\tvalidation_0-error:0.248444\tvalidation_1-error:0.246233\n",
            "[99]\tvalidation_0-error:0.248691\tvalidation_1-error:0.246233\n"
          ]
        },
        {
          "data": {
            "text/plain": [
              "XGBClassifier(Colsample_bytree=1, Eval_metric='auc', Learning_rate=0.1,\n",
              "              Max_depth=4, N_estimator=200, Random_seed=123, Subsample=0.5,\n",
              "              Verbosity=1, tree_method='gpu_hist')"
            ]
          },
          "execution_count": 433,
          "metadata": {},
          "output_type": "execute_result"
        }
      ],
      "source": [
        "model.fit(X_train, y_train, \n",
        "          eval_set = [(X_train, y_train), (X_test, y_test)], \n",
        "          early_stopping_rounds = 10)            "
      ]
    },
    {
      "cell_type": "markdown",
      "metadata": {
        "id": "VhHGbb85pdFH"
      },
      "source": [
        "## 2.3 Evaluate mdoel\n",
        "\n",
        "confusion matrix plotter has imported from [here](https://www.kaggle.com/code/mattkibassa/xgbclassifier-and-confusion-matrix?scriptVersionId=21615450&cellId=20)"
      ]
    },
    {
      "cell_type": "code",
      "execution_count": null,
      "metadata": {
        "id": "1b5NlysMr_-1"
      },
      "outputs": [],
      "source": [
        "def confusion_matrix_plotter(actual_labels,predicted_labels):\n",
        "  cm = confusion_matrix(actual_labels, predicted_labels)\n",
        "  plt.figure(figsize=(5,5))\n",
        "  plt.clf()\n",
        "  plt.imshow(cm, interpolation='nearest', cmap=plt.cm.Wistia)\n",
        "  classNames = ['Negative','Positive']\n",
        "  plt.title('Matrice de confusion')\n",
        "  plt.ylabel('True label')\n",
        "  plt.xlabel('Predicted label')\n",
        "  tick_marks = np.arange(len(classNames))\n",
        "  plt.xticks(tick_marks, classNames, rotation=45)\n",
        "  plt.yticks(tick_marks, classNames)\n",
        "  s = [['TN','FP'], ['FN', 'TP']]\n",
        "  \n",
        "  for i in range(2):\n",
        "      for j in range(2):\n",
        "          plt.text(j,i, str(s[i][j])+\" = \"+str(cm[i][j]))\n",
        "  plt.show()"
      ]
    },
    {
      "cell_type": "code",
      "execution_count": null,
      "metadata": {
        "id": "EKUYTuoGZ1f-"
      },
      "outputs": [],
      "source": [
        "def evaluator(clf_mdoel, X, actual_labels):\n",
        "  predicted_labels = clf_mdoel.predict(X)\n",
        "  precision = precision_score(actual_labels, predicted_labels)\n",
        "  recall = recall_score(actual_labels, predicted_labels)\n",
        "  \n",
        "  print(\"Precision --> {}\\n\\n Recall --> {}\".format(precision, recall))\n",
        "  print(\"\\n confusion matrix: \")\n",
        "  confusion_matrix_plotter(actual_labels,predicted_labels)  "
      ]
    },
    {
      "cell_type": "markdown",
      "metadata": {
        "id": "5vPEBHOzs2Gq"
      },
      "source": [
        "### 2.3.1 Train dataset evaluation"
      ]
    },
    {
      "cell_type": "code",
      "execution_count": null,
      "metadata": {
        "colab": {
          "base_uri": "https://localhost:8080/",
          "height": 466
        },
        "id": "E92-iOZLpd1a",
        "outputId": "8bce69f5-9368-418a-cc9d-3bf59fbfc949"
      },
      "outputs": [
        {
          "name": "stdout",
          "output_type": "stream",
          "text": [
            "Precision --> 0.7333793420749942\n",
            "\n",
            " Recall --> 0.7892763669802646\n",
            "\n",
            " confusion matrix: \n"
          ]
        },
        {
          "data": {
            "image/png": "[encoded data removed]",
            "text/plain": [
              "<Figure size 360x360 with 1 Axes>"
            ]
          },
          "metadata": {
            "needs_background": "light"
          },
          "output_type": "display_data"
        }
      ],
      "source": [
        "evaluator(model, X_train, y_train)"
      ]
    },
    {
      "cell_type": "markdown",
      "metadata": {
        "id": "oJnU1OXps8zf"
      },
      "source": [
        "### 2.3.2 Test dataset evaluation"
      ]
    },
    {
      "cell_type": "code",
      "execution_count": null,
      "metadata": {
        "colab": {
          "base_uri": "https://localhost:8080/",
          "height": 466
        },
        "id": "TVWoqPQZpd6W",
        "outputId": "cb35bf1b-ae0c-4b1a-fa38-2a9afe02424e"
      },
      "outputs": [
        {
          "name": "stdout",
          "output_type": "stream",
          "text": [
            "Precision --> 0.7365994995390491\n",
            "\n",
            " Recall --> 0.791201018531617\n",
            "\n",
            " confusion matrix: \n"
          ]
        },
        {
          "data": {
            "image/png": "[encoded data removed]",
            "text/plain": [
              "<Figure size 360x360 with 1 Axes>"
            ]
          },
          "metadata": {
            "needs_background": "light"
          },
          "output_type": "display_data"
        }
      ],
      "source": [
        "evaluator(model, X_test, y_test)"
      ]
    },
    {
      "cell_type": "markdown",
      "metadata": {
        "id": "ww88huA1u5Uq"
      },
      "source": [
        "# 3- Hyperparameter Tuning"
      ]
    },
    {
      "cell_type": "code",
      "execution_count": null,
      "metadata": {
        "id": "QuvGSshBvUO7"
      },
      "outputs": [],
      "source": [
        "from sklearn.model_selection import KFold, cross_val_score,  StratifiedKFold, GridSearchCV\n",
        "from sklearn.metrics import roc_curve, roc_auc_score, auc"
      ]
    },
    {
      "cell_type": "code",
      "execution_count": null,
      "metadata": {
        "id": "ZKkh59fgu4_8"
      },
      "outputs": [],
      "source": [
        "hyper_param_dict = {\n",
        "\"learning_rate_list\" : [0.02, 0.05, 0.1, 0.3],\n",
        "\"max_depth_list\" : [2, 3, 4] ,\n",
        "\"n_estimators_list\" : [100, 200, 300],\n",
        "\"colsample_bytree\" : [0.8, 1]\n",
        "}\n",
        "def my_roc_auc_score(model, X, y): return roc_auc_score(y, model.predict_proba(X)[:,1])"
      ]
    },
    {
      "cell_type": "markdown",
      "metadata": {
        "id": "CzhLtkmjzYna"
      },
      "source": [
        "## 3.1 Tunner function \n",
        "\n",
        "<font color=\"Blue\">\n",
        "GridSearchCV: get Classifier model, list of diffrent hyper-parameters, definded scoring function.<br>\n",
        "we want use all processors so set n_jobs = -1, and use defined Kfold for cross validation"
      ]
    },
    {
      "cell_type": "code",
      "execution_count": null,
      "metadata": {
        "id": "o7afZ6Bay3Y5"
      },
      "outputs": [],
      "source": [
        "def tunner(hyper_params, X_train, actual_labels, my_roc_auc_score ):\n",
        "  untuned_model = XGBClassifier(eval_metric='auc', Subsample=0.5) \n",
        "  kfold = StratifiedKFold(n_splits=3, shuffle=True, random_state=42)\n",
        "  grid_search = GridSearchCV(model,hyper_params,scoring= my_roc_auc_score, n_jobs=-1, cv=kfold)\n",
        "  grid_result = grid_search.fit(X_train, actual_labels)\n",
        "  return grid_result"
      ]
    },
    {
      "cell_type": "code",
      "execution_count": null,
      "metadata": {
        "id": "_OCMVr0ZxOwH"
      },
      "outputs": [],
      "source": [
        "grid_result = tunner(hyper_param_dict, X_train, y_train, my_roc_auc_score)"
      ]
    },
    {
      "cell_type": "markdown",
      "metadata": {
        "id": "XGumy0jBxzvM"
      },
      "source": [
        "#### Best parameters"
      ]
    },
    {
      "cell_type": "code",
      "execution_count": null,
      "metadata": {
        "colab": {
          "base_uri": "https://localhost:8080/"
        },
        "id": "lSgVv0eP8K5Y",
        "outputId": "08bc6a71-8531-4204-c6cf-a1fe15a036c8"
      },
      "outputs": [
        {
          "data": {
            "text/plain": [
              "{'colsample_bytree': 0.8,\n",
              " 'learning_rate_list': 0.02,\n",
              " 'max_depth_list': 2,\n",
              " 'n_estimators_list': 100}"
            ]
          },
          "execution_count": 442,
          "metadata": {},
          "output_type": "execute_result"
        }
      ],
      "source": [
        "best_hyper_parameters = grid_result.best_params_\n",
        "best_hyper_parameters"
      ]
    },
    {
      "cell_type": "markdown",
      "metadata": {
        "id": "juOWbpD2x7u8"
      },
      "source": [
        "<font color=\"Blue\">\n",
        "After finding the best parameters, we define a model by these parameters and train it."
      ]
    },
    {
      "cell_type": "code",
      "execution_count": null,
      "metadata": {
        "id": "ECVdrqFww0oR"
      },
      "outputs": [],
      "source": [
        "best_hyper_parameters = grid_result.best_params_\n",
        "tuned_model = XGBClassifier(\n",
        "                    **best_hyper_parameters,\n",
        "                    Random_seed=123,\n",
        "                    eval_metric='auc',\n",
        "                    Subsample=0.5,\n",
        "                    Verbosity=1\n",
        "                    ) "
      ]
    },
    {
      "cell_type": "code",
      "execution_count": null,
      "metadata": {
        "colab": {
          "base_uri": "https://localhost:8080/"
        },
        "id": "14TwCeP36ASa",
        "outputId": "34e19c72-08d0-42e5-855f-90c44d755940"
      },
      "outputs": [
        {
          "name": "stdout",
          "output_type": "stream",
          "text": [
            "[0]\tvalidation_0-auc:0.760342\tvalidation_1-auc:0.758962\n",
            "Multiple eval metrics have been passed: 'validation_1-auc' will be used for early stopping.\n",
            "\n",
            "Will train until validation_1-auc hasn't improved in 10 rounds.\n",
            "[1]\tvalidation_0-auc:0.775584\tvalidation_1-auc:0.774781\n",
            "[2]\tvalidation_0-auc:0.784815\tvalidation_1-auc:0.783644\n",
            "[3]\tvalidation_0-auc:0.792351\tvalidation_1-auc:0.791464\n",
            "[4]\tvalidation_0-auc:0.798606\tvalidation_1-auc:0.799357\n",
            "[5]\tvalidation_0-auc:0.800213\tvalidation_1-auc:0.800395\n",
            "[6]\tvalidation_0-auc:0.800177\tvalidation_1-auc:0.800728\n",
            "[7]\tvalidation_0-auc:0.802123\tvalidation_1-auc:0.803117\n",
            "[8]\tvalidation_0-auc:0.805201\tvalidation_1-auc:0.80614\n",
            "[9]\tvalidation_0-auc:0.805388\tvalidation_1-auc:0.806099\n",
            "[10]\tvalidation_0-auc:0.806136\tvalidation_1-auc:0.806973\n",
            "[11]\tvalidation_0-auc:0.808095\tvalidation_1-auc:0.809081\n",
            "[12]\tvalidation_0-auc:0.809724\tvalidation_1-auc:0.811215\n",
            "[13]\tvalidation_0-auc:0.811048\tvalidation_1-auc:0.812282\n",
            "[14]\tvalidation_0-auc:0.811709\tvalidation_1-auc:0.813042\n",
            "[15]\tvalidation_0-auc:0.813168\tvalidation_1-auc:0.814514\n",
            "[16]\tvalidation_0-auc:0.813936\tvalidation_1-auc:0.815252\n",
            "[17]\tvalidation_0-auc:0.81409\tvalidation_1-auc:0.815636\n",
            "[18]\tvalidation_0-auc:0.814758\tvalidation_1-auc:0.816259\n",
            "[19]\tvalidation_0-auc:0.815628\tvalidation_1-auc:0.817273\n",
            "[20]\tvalidation_0-auc:0.816003\tvalidation_1-auc:0.817636\n",
            "[21]\tvalidation_0-auc:0.816469\tvalidation_1-auc:0.818014\n",
            "[22]\tvalidation_0-auc:0.816874\tvalidation_1-auc:0.818699\n",
            "[23]\tvalidation_0-auc:0.817213\tvalidation_1-auc:0.818971\n",
            "[24]\tvalidation_0-auc:0.817967\tvalidation_1-auc:0.819753\n",
            "[25]\tvalidation_0-auc:0.818596\tvalidation_1-auc:0.820465\n",
            "[26]\tvalidation_0-auc:0.818897\tvalidation_1-auc:0.820614\n",
            "[27]\tvalidation_0-auc:0.819423\tvalidation_1-auc:0.821174\n",
            "[28]\tvalidation_0-auc:0.819846\tvalidation_1-auc:0.821464\n",
            "[29]\tvalidation_0-auc:0.820298\tvalidation_1-auc:0.821826\n",
            "[30]\tvalidation_0-auc:0.820728\tvalidation_1-auc:0.82215\n",
            "[31]\tvalidation_0-auc:0.821049\tvalidation_1-auc:0.822644\n",
            "[32]\tvalidation_0-auc:0.821409\tvalidation_1-auc:0.823027\n",
            "[33]\tvalidation_0-auc:0.821754\tvalidation_1-auc:0.823365\n",
            "[34]\tvalidation_0-auc:0.821965\tvalidation_1-auc:0.823553\n",
            "[35]\tvalidation_0-auc:0.822158\tvalidation_1-auc:0.823828\n",
            "[36]\tvalidation_0-auc:0.822353\tvalidation_1-auc:0.824048\n",
            "[37]\tvalidation_0-auc:0.822547\tvalidation_1-auc:0.824221\n",
            "[38]\tvalidation_0-auc:0.822738\tvalidation_1-auc:0.824235\n",
            "[39]\tvalidation_0-auc:0.823002\tvalidation_1-auc:0.824468\n",
            "[40]\tvalidation_0-auc:0.823063\tvalidation_1-auc:0.824507\n",
            "[41]\tvalidation_0-auc:0.823284\tvalidation_1-auc:0.824783\n",
            "[42]\tvalidation_0-auc:0.823509\tvalidation_1-auc:0.824988\n",
            "[43]\tvalidation_0-auc:0.823646\tvalidation_1-auc:0.825107\n",
            "[44]\tvalidation_0-auc:0.823831\tvalidation_1-auc:0.825278\n",
            "[45]\tvalidation_0-auc:0.824031\tvalidation_1-auc:0.82535\n",
            "[46]\tvalidation_0-auc:0.824128\tvalidation_1-auc:0.82548\n",
            "[47]\tvalidation_0-auc:0.824241\tvalidation_1-auc:0.825638\n",
            "[48]\tvalidation_0-auc:0.824393\tvalidation_1-auc:0.825746\n",
            "[49]\tvalidation_0-auc:0.824503\tvalidation_1-auc:0.825847\n",
            "[50]\tvalidation_0-auc:0.824575\tvalidation_1-auc:0.825841\n",
            "[51]\tvalidation_0-auc:0.824702\tvalidation_1-auc:0.82594\n",
            "[52]\tvalidation_0-auc:0.824794\tvalidation_1-auc:0.826114\n",
            "[53]\tvalidation_0-auc:0.824894\tvalidation_1-auc:0.826213\n",
            "[54]\tvalidation_0-auc:0.824974\tvalidation_1-auc:0.826247\n",
            "[55]\tvalidation_0-auc:0.825029\tvalidation_1-auc:0.826315\n",
            "[56]\tvalidation_0-auc:0.825097\tvalidation_1-auc:0.826433\n",
            "[57]\tvalidation_0-auc:0.825209\tvalidation_1-auc:0.826466\n",
            "[58]\tvalidation_0-auc:0.825288\tvalidation_1-auc:0.826567\n",
            "[59]\tvalidation_0-auc:0.825406\tvalidation_1-auc:0.826671\n",
            "[60]\tvalidation_0-auc:0.825479\tvalidation_1-auc:0.826756\n",
            "[61]\tvalidation_0-auc:0.825595\tvalidation_1-auc:0.826828\n",
            "[62]\tvalidation_0-auc:0.825693\tvalidation_1-auc:0.826886\n",
            "[63]\tvalidation_0-auc:0.825734\tvalidation_1-auc:0.826897\n",
            "[64]\tvalidation_0-auc:0.825802\tvalidation_1-auc:0.826966\n",
            "[65]\tvalidation_0-auc:0.825836\tvalidation_1-auc:0.827028\n",
            "[66]\tvalidation_0-auc:0.825939\tvalidation_1-auc:0.827052\n",
            "[67]\tvalidation_0-auc:0.826052\tvalidation_1-auc:0.827094\n",
            "[68]\tvalidation_0-auc:0.826126\tvalidation_1-auc:0.827133\n",
            "[69]\tvalidation_0-auc:0.82623\tvalidation_1-auc:0.827171\n",
            "[70]\tvalidation_0-auc:0.82633\tvalidation_1-auc:0.827221\n",
            "[71]\tvalidation_0-auc:0.826393\tvalidation_1-auc:0.82726\n",
            "[72]\tvalidation_0-auc:0.826419\tvalidation_1-auc:0.827274\n",
            "[73]\tvalidation_0-auc:0.826514\tvalidation_1-auc:0.827306\n",
            "[74]\tvalidation_0-auc:0.826574\tvalidation_1-auc:0.827342\n",
            "[75]\tvalidation_0-auc:0.826628\tvalidation_1-auc:0.827399\n",
            "[76]\tvalidation_0-auc:0.82666\tvalidation_1-auc:0.827393\n",
            "[77]\tvalidation_0-auc:0.826758\tvalidation_1-auc:0.827452\n",
            "[78]\tvalidation_0-auc:0.826807\tvalidation_1-auc:0.827526\n",
            "[79]\tvalidation_0-auc:0.826871\tvalidation_1-auc:0.82757\n",
            "[80]\tvalidation_0-auc:0.8269\tvalidation_1-auc:0.827592\n",
            "[81]\tvalidation_0-auc:0.826947\tvalidation_1-auc:0.827669\n",
            "[82]\tvalidation_0-auc:0.826993\tvalidation_1-auc:0.827736\n",
            "[83]\tvalidation_0-auc:0.827094\tvalidation_1-auc:0.827774\n",
            "[84]\tvalidation_0-auc:0.82715\tvalidation_1-auc:0.827786\n",
            "[85]\tvalidation_0-auc:0.827213\tvalidation_1-auc:0.827855\n",
            "[86]\tvalidation_0-auc:0.827276\tvalidation_1-auc:0.827877\n",
            "[87]\tvalidation_0-auc:0.827312\tvalidation_1-auc:0.827906\n",
            "[88]\tvalidation_0-auc:0.827399\tvalidation_1-auc:0.827951\n",
            "[89]\tvalidation_0-auc:0.827447\tvalidation_1-auc:0.827949\n",
            "[90]\tvalidation_0-auc:0.827479\tvalidation_1-auc:0.827964\n",
            "[91]\tvalidation_0-auc:0.827518\tvalidation_1-auc:0.828028\n",
            "[92]\tvalidation_0-auc:0.827548\tvalidation_1-auc:0.82803\n",
            "[93]\tvalidation_0-auc:0.827581\tvalidation_1-auc:0.828032\n",
            "[94]\tvalidation_0-auc:0.827612\tvalidation_1-auc:0.828038\n",
            "[95]\tvalidation_0-auc:0.827652\tvalidation_1-auc:0.828111\n",
            "[96]\tvalidation_0-auc:0.827694\tvalidation_1-auc:0.82812\n",
            "[97]\tvalidation_0-auc:0.827737\tvalidation_1-auc:0.828163\n",
            "[98]\tvalidation_0-auc:0.827793\tvalidation_1-auc:0.828198\n",
            "[99]\tvalidation_0-auc:0.827841\tvalidation_1-auc:0.82821\n"
          ]
        },
        {
          "data": {
            "text/plain": [
              "XGBClassifier(Random_seed=123, Subsample=0.5, Verbosity=1, colsample_bytree=0.8,\n",
              "              eval_metric='auc', learning_rate_list=0.02, max_depth_list=2,\n",
              "              n_estimators_list=100)"
            ]
          },
          "execution_count": 444,
          "metadata": {},
          "output_type": "execute_result"
        }
      ],
      "source": [
        "tuned_model.fit(X_train, y_train,\n",
        "                eval_set = [(X_train, y_train), (X_test, y_test)], \n",
        "                early_stopping_rounds = 10)  "
      ]
    },
    {
      "cell_type": "markdown",
      "metadata": {
        "id": "S9SHCs9Sxc-c"
      },
      "source": [
        "## 3.2 Train dataset evaluation \n"
      ]
    },
    {
      "cell_type": "code",
      "execution_count": null,
      "metadata": {
        "colab": {
          "base_uri": "https://localhost:8080/",
          "height": 466
        },
        "id": "aTl1927mw0wE",
        "outputId": "b289c068-3b58-4675-9679-a47d7b6b9d58"
      },
      "outputs": [
        {
          "name": "stdout",
          "output_type": "stream",
          "text": [
            "Precision --> 0.7334517115517412\n",
            "\n",
            " Recall --> 0.7888873169696541\n",
            "\n",
            " confusion matrix: \n"
          ]
        },
        {
          "data": {
            "image/png": "[encoded data removed]",
            "text/plain": [
              "<Figure size 360x360 with 1 Axes>"
            ]
          },
          "metadata": {
            "needs_background": "light"
          },
          "output_type": "display_data"
        }
      ],
      "source": [
        "evaluator(tuned_model, X_train, y_train)"
      ]
    },
    {
      "cell_type": "markdown",
      "metadata": {
        "id": "TmpDjA8P6tjA"
      },
      "source": [
        "## Test dataset evaluation "
      ]
    },
    {
      "cell_type": "code",
      "execution_count": null,
      "metadata": {
        "colab": {
          "base_uri": "https://localhost:8080/",
          "height": 466
        },
        "id": "-wlZBC0Iw00l",
        "outputId": "b00cdc0d-ba17-44ca-bf6b-31c36c579de6"
      },
      "outputs": [
        {
          "name": "stdout",
          "output_type": "stream",
          "text": [
            "Precision --> 0.7344551071381622\n",
            "\n",
            " Recall --> 0.7903522421841844\n",
            "\n",
            " confusion matrix: \n"
          ]
        },
        {
          "data": {
            "image/png": "[encoded data removed]",
            "text/plain": [
              "<Figure size 360x360 with 1 Axes>"
            ]
          },
          "metadata": {
            "needs_background": "light"
          },
          "output_type": "display_data"
        }
      ],
      "source": [
        "evaluator(tuned_model, X_test, y_test)"
      ]
    },
    {
      "cell_type": "markdown",
      "metadata": {
        "id": "ZUrAND9PQ88B"
      },
      "source": [
        "# 4 Plot diagrams"
      ]
    },
    {
      "cell_type": "code",
      "execution_count": null,
      "metadata": {
        "id": "NsbLCMf-pd83"
      },
      "outputs": [],
      "source": [
        "learning_rate_list = [0.02, 0.05, 0.1, 0.3]\n",
        "max_depth_list = [2, 3, 4] \n",
        "n_estimators_list = [100, 200, 300] \n",
        "colsample_bytree = [0.8, 1]"
      ]
    },
    {
      "cell_type": "code",
      "execution_count": null,
      "metadata": {
        "colab": {
          "base_uri": "https://localhost:8080/"
        },
        "id": "4TF1y3LoGWHv",
        "outputId": "fa7f9258-19c5-4842-ad16-25362fadb65f"
      },
      "outputs": [
        {
          "data": {
            "text/plain": [
              "{'colsample_bytree': 0.8,\n",
              " 'learning_rate_list': 0.02,\n",
              " 'max_depth_list': 2,\n",
              " 'n_estimators_list': 100}"
            ]
          },
          "execution_count": 449,
          "metadata": {},
          "output_type": "execute_result"
        }
      ],
      "source": [
        "best_hyper_parameters"
      ]
    },
    {
      "cell_type": "markdown",
      "metadata": {
        "id": "tf4hRHA_yjZv"
      },
      "source": [
        "<font color=\"Blue\">\n",
        "Below function extract all mean scores calculated by gridsearch, which have the same parameters except the variable parameter. "
      ]
    },
    {
      "cell_type": "code",
      "execution_count": null,
      "metadata": {
        "id": "4-8u7XCEGeOs"
      },
      "outputs": [],
      "source": [
        "def score_extractor(grid_means_score, grid_result_param, variable_parameter ):\n",
        "  parameter_score_result = {}\n",
        "  for i,param_set in enumerate(grid_result_param):\n",
        "    flag = 0\n",
        "    for key in param_set.keys():\n",
        "      if key != variable_parameter:\n",
        "        if param_set[key] == best_hyper_parameters[key]:\n",
        "          flag += 1\n",
        "    if flag == 3:\n",
        "      parameter_score_result[param_set[variable_parameter]] = grid_means_score[i]\n",
        "  return parameter_score_result"
      ]
    },
    {
      "cell_type": "code",
      "execution_count": null,
      "metadata": {
        "id": "8rtuBhGJJOgg"
      },
      "outputs": [],
      "source": [
        "\n",
        "def plotter(parameter_score_result,variable_parametet, best_param, fig, i):\n",
        "  fig.add_subplot(2, 2, i)\n",
        "  plt.plot(list(parameter_score_result.keys()),list(parameter_score_result.values()), label = variable_parameter)\n",
        "  key_list = [\"{} = {}\".format(key, str(value)) for key, value in best_param.items() if key != variable_parameter]\n",
        "  title = \"  ||  \".join(key_list)\n",
        "  plt.title(title)\n",
        "  plt.xlabel(variable_parameter)\n",
        "  plt.ylabel(\"mean_auc\")\n",
        "  plt.grid()\n",
        "  plt.legend()"
      ]
    },
    {
      "cell_type": "code",
      "execution_count": null,
      "metadata": {
        "colab": {
          "base_uri": "https://localhost:8080/",
          "height": 785
        },
        "id": "LtH2mAM3IhPw",
        "outputId": "3b0765e0-fd8d-4a8f-ea7e-58a1c4329c2e"
      },
      "outputs": [
        {
          "data": {
            "image/png": "[encoded data removed]",
            "text/plain": [
              "<Figure size 1152x936 with 4 Axes>"
            ]
          },
          "metadata": {
            "needs_background": "light"
          },
          "output_type": "display_data"
        }
      ],
      "source": [
        "grid_means_score = grid_result.cv_results_['mean_test_score']\n",
        "grid_result_param = grid_result.cv_results_['params']\n",
        "fig = plt.figure(figsize=(16, 13))\n",
        "i = 1\n",
        "for variable_parameter in best_hyper_parameters.keys():\n",
        "  parameter_score_result =  score_extractor(grid_means_score, grid_result_param, variable_parameter)\n",
        "  plotter(parameter_score_result, variable_parameter, best_hyper_parameters, fig, i)\n",
        "  i += 1"
      ]
    },
    {
      "cell_type": "markdown",
      "metadata": {
        "id": "7i90oR_chSQt"
      },
      "source": [
        "# Conclusion  "
      ]
    },
    {
      "cell_type": "markdown",
      "metadata": {
        "id": "jP2JtqS9g634"
      },
      "source": [
        "\n",
        "<font color=\"Blue\"> \n",
        "As seen in the figures above, we used best_param values for each subplot and placed only one variable on the horizontal axis to see the effects of that variable on the best_param model. Based on the results, it was found that the colsample_bytree parameter has a more significant impact on the quality and performance of the model than other parameters. \n"
      ]
    }
  ],
  "metadata": {
    "accelerator": "GPU",
    "colab": {
      "collapsed_sections": [],
      "name": "Final_project.ipynb",
      "provenance": [],
      "toc_visible": true
    },
    "gpuClass": "standard",
    "kernelspec": {
      "display_name": "Python 3.9.7 64-bit",
      "language": "python",
      "name": "python3"
    },
    "language_info": {
      "codemirror_mode": {
        "name": "ipython",
        "version": 3
      },
      "file_extension": ".py",
      "mimetype": "text/x-python",
      "name": "python",
      "nbconvert_exporter": "python",
      "pygments_lexer": "ipython3",
      "version": "3.9.7"
    },
    "vscode": {
      "interpreter": {
        "hash": "42aca8b8e8a8ea4e9ad6820a0820166b784b9fe99cc74d1b5150875fd9b2f3df"
      }
    }
  },
  "nbformat": 4,
  "nbformat_minor": 0
}
